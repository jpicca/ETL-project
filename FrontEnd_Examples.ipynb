{
 "cells": [
  {
   "cell_type": "markdown",
   "metadata": {},
   "source": [
    "## Project Front End"
   ]
  },
  {
   "cell_type": "markdown",
   "metadata": {},
   "source": [
    "The project utilizes a combination of flask, bootstrap, and javascript to produce a front-end visualization of some of the loaded data."
   ]
  },
  {
   "cell_type": "markdown",
   "metadata": {},
   "source": [
    "To view the data, run \"python <b>app.py</b>\" from the folder containing the <b>app.py</b> file. \n",
    "Then point your browser to <b>[localhost](http://localhost:5000/)."
   ]
  },
  {
   "cell_type": "markdown",
   "metadata": {},
   "source": [
    "### Front Page"
   ]
  },
  {
   "cell_type": "markdown",
   "metadata": {},
   "source": [
    "The front page displays some basic overview information."
   ]
  },
  {
   "cell_type": "markdown",
   "metadata": {},
   "source": [
    "![Front page example](./images/frontpage.png \"Front Page\")"
   ]
  },
  {
   "cell_type": "markdown",
   "metadata": {},
   "source": [
    "### Data"
   ]
  },
  {
   "cell_type": "markdown",
   "metadata": {},
   "source": [
    "Our data page consists of a table from the aggregated data (<b>ELT_Project/routeAndPatient</b>)."
   ]
  },
  {
   "cell_type": "markdown",
   "metadata": {},
   "source": [
    "![Data example](./images/data.png \"Data\")"
   ]
  },
  {
   "cell_type": "markdown",
   "metadata": {},
   "source": [
    "### Map"
   ]
  },
  {
   "cell_type": "markdown",
   "metadata": {},
   "source": [
    "The map displays routing data for some patients. In other words, it displays lat/lon pairs for locations where some patients were known to have visited.\n",
    "The map utilizes...\n",
    "\n",
    "- [Leaflet](https://leafletjs.com/) to create the map object\n",
    "- [Stamen Maps](http://maps.stamen.com/#terrain/12/37.7706/-122.3782) for the map tiles\n",
    "- Jinja to load lat/lon data into a \"hidden\" div\n",
    "- Javascript to pull that lat/lon string data, convert it to a js object, and then loop through it to add it to the Leaflet map object"
   ]
  },
  {
   "cell_type": "markdown",
   "metadata": {},
   "source": [
    "![Map example](./images/map.png \"Map\")"
   ]
  },
  {
   "cell_type": "code",
   "execution_count": null,
   "metadata": {},
   "outputs": [],
   "source": []
  }
 ],
 "metadata": {
  "kernelspec": {
   "display_name": "Python 3",
   "language": "python",
   "name": "python3"
  },
  "language_info": {
   "codemirror_mode": {
    "name": "ipython",
    "version": 3
   },
   "file_extension": ".py",
   "mimetype": "text/x-python",
   "name": "python",
   "nbconvert_exporter": "python",
   "pygments_lexer": "ipython3",
   "version": "3.6.9"
  }
 },
 "nbformat": 4,
 "nbformat_minor": 4
}
